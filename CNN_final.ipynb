{
 "cells": [
  {
   "cell_type": "code",
   "execution_count": 1,
   "id": "29b237c3",
   "metadata": {
    "scrolled": true
   },
   "outputs": [
    {
     "name": "stderr",
     "output_type": "stream",
     "text": [
      "2023-05-03 14:24:42.895313: I tensorflow/core/util/port.cc:110] oneDNN custom operations are on. You may see slightly different numerical results due to floating-point round-off errors from different computation orders. To turn them off, set the environment variable `TF_ENABLE_ONEDNN_OPTS=0`.\n",
      "2023-05-03 14:24:42.915653: I tensorflow/core/platform/cpu_feature_guard.cc:182] This TensorFlow binary is optimized to use available CPU instructions in performance-critical operations.\n",
      "To enable the following instructions: AVX2 AVX_VNNI FMA, in other operations, rebuild TensorFlow with the appropriate compiler flags.\n",
      "2023-05-03 14:24:43.201979: W tensorflow/compiler/tf2tensorrt/utils/py_utils.cc:38] TF-TRT Warning: Could not find TensorRT\n"
     ]
    },
    {
     "data": {
      "text/plain": [
       "((4057, 5), (4057, 5))"
      ]
     },
     "execution_count": 1,
     "metadata": {},
     "output_type": "execute_result"
    }
   ],
   "source": [
    "import pandas as pd\n",
    "import pickle\n",
    "from skimage.transform import rescale\n",
    "import imageio\n",
    "import numpy as np\n",
    "from sklearn.model_selection import train_test_split\n",
    "import tensorflow as tf\n",
    "from tensorflow.keras.models import Sequential\n",
    "from tensorflow.keras.layers import Conv2D, MaxPooling2D, Flatten, Dense\n",
    "from tensorflow.keras.optimizers import Adam\n",
    "\n",
    "tf.keras.backend.clear_session()\n",
    "\n",
    "with open('/home/robotixx/Documents/elevation.pickle', 'rb') as f:\n",
    "    df = pickle.load(f)\n",
    "\n",
    "with open('/home/robotixx/Documents/traversability.pickle', 'rb') as f:\n",
    "    df1 = pickle.load(f)\n",
    "    \n",
    "df.shape, df1.shape"
   ]
  },
  {
   "cell_type": "code",
   "execution_count": 27,
   "id": "79c9f77b",
   "metadata": {},
   "outputs": [],
   "source": [
    "tf.keras.backend.clear_session()"
   ]
  },
  {
   "cell_type": "code",
   "execution_count": 3,
   "id": "e5e43e34",
   "metadata": {},
   "outputs": [
    {
     "name": "stdout",
     "output_type": "stream",
     "text": [
      "Num GPUs Available:  1\n"
     ]
    },
    {
     "name": "stderr",
     "output_type": "stream",
     "text": [
      "2023-05-03 14:24:48.172797: I tensorflow/compiler/xla/stream_executor/cuda/cuda_gpu_executor.cc:996] successful NUMA node read from SysFS had negative value (-1), but there must be at least one NUMA node, so returning NUMA node zero. See more at https://github.com/torvalds/linux/blob/v6.0/Documentation/ABI/testing/sysfs-bus-pci#L344-L355\n",
      "2023-05-03 14:24:48.201957: I tensorflow/compiler/xla/stream_executor/cuda/cuda_gpu_executor.cc:996] successful NUMA node read from SysFS had negative value (-1), but there must be at least one NUMA node, so returning NUMA node zero. See more at https://github.com/torvalds/linux/blob/v6.0/Documentation/ABI/testing/sysfs-bus-pci#L344-L355\n",
      "2023-05-03 14:24:48.202044: I tensorflow/compiler/xla/stream_executor/cuda/cuda_gpu_executor.cc:996] successful NUMA node read from SysFS had negative value (-1), but there must be at least one NUMA node, so returning NUMA node zero. See more at https://github.com/torvalds/linux/blob/v6.0/Documentation/ABI/testing/sysfs-bus-pci#L344-L355\n"
     ]
    }
   ],
   "source": [
    "print(\"Num GPUs Available: \", len(tf.config.list_physical_devices('GPU')))\n"
   ]
  },
  {
   "cell_type": "code",
   "execution_count": 4,
   "id": "64a9d961",
   "metadata": {},
   "outputs": [],
   "source": [
    "X_e = list(df['image'].values)\n",
    "X_e= np.array(X_e)\n",
    "y_e = df['pitch'].values\n",
    "\n",
    "#discretizer = KBinsDiscretizer(n_bins=10, encode='ordinal', strategy='uniform')\n",
    "#y_l = discretizer.fit_transform(y.reshape(-1, 1)).ravel()\n",
    "#y = y.reshape(y.shape[0], -1)\n",
    "\n",
    "X_t = list(df1['image'].values)\n",
    "X_t = np.array(X_t)\n",
    "y_t = df1['pitch'].values\n",
    "\n"
   ]
  },
  {
   "cell_type": "code",
   "execution_count": 5,
   "id": "592b33d8",
   "metadata": {},
   "outputs": [
    {
     "data": {
      "text/plain": [
       "((4022, 400, 200), (4022, 400, 200), (4022,), (4022,))"
      ]
     },
     "execution_count": 5,
     "metadata": {},
     "output_type": "execute_result"
    }
   ],
   "source": [
    "f = y_e.tolist()\n",
    "z = y_t.tolist()\n",
    "ze = []\n",
    "for i in range (len(f)):\n",
    "    if (abs(f[i] - z[i]) < 0.6):\n",
    "        ze.append(i)\n",
    "      \n",
    "xd1 = X_e[ze]\n",
    "xd2 = X_t[ze]\n",
    "yd1 = y_e[ze]\n",
    "yd2 = y_t[ze]\n",
    "xd1.shape, xd2.shape, yd1.shape, yd2.shape"
   ]
  },
  {
   "cell_type": "code",
   "execution_count": 6,
   "id": "895ade84",
   "metadata": {
    "scrolled": true
   },
   "outputs": [
    {
     "data": {
      "text/plain": [
       "((4018, 400, 200, 4), (4018, 400, 200, 4), (4018,), (4018,))"
      ]
     },
     "execution_count": 6,
     "metadata": {},
     "output_type": "execute_result"
    }
   ],
   "source": [
    "xs_e =[]\n",
    "xs_t =[] \n",
    "ys_e =[]\n",
    "ys_t =[]\n",
    "for i in range (len(xd1)-4):\n",
    "    xs_e.append([xd1[i], xd1[i+1], xd1[i+2], xd1[i+3]])\n",
    "    xs_t.append([xd2[i], xd2[i+1], xd2[i+2], xd2[i+3]])\n",
    "    ys_e.append((yd1[i] + yd1[i+1] + yd1[i+2] + yd1[i+3])/4)\n",
    "    ys_t.append((yd2[i] + yd2[i+1] + yd2[i+2] + yd2[i+3])/4)\n",
    "\n",
    "xs_e = np.array(xs_e)\n",
    "xs_e = np.transpose(xs_e, (0, 2, 3, 1))\n",
    "\n",
    "xs_t = np.array(xs_t)\n",
    "xs_t = np.transpose(xs_t, (0, 2, 3, 1))\n",
    "\n",
    "ys_e = np.array(ys_e)\n",
    "ys_t = np.array(ys_t)\n",
    "\n",
    "xs_e.shape, xs_t.shape, ys_e.shape,ys_t.shape"
   ]
  },
  {
   "cell_type": "code",
   "execution_count": null,
   "id": "6306e7df",
   "metadata": {},
   "outputs": [],
   "source": [
    "xs_e =[]\n",
    "xs_t =[] \n",
    "ys_e =[]\n",
    "ys_t =[]\n",
    "for i in range (len(xd1)-4):\n",
    "    xs_e.append([xd1[i]])\n",
    "    xs_t.append([xd2[i]])\n",
    "    ys_e.append(yd1[i])\n",
    "    ys_t.append(yd2[i])\n",
    "\n",
    "xs_e = np.array(xs_e)\n",
    "xs_e = np.transpose(xs_e, (0, 2, 3, 1))\n",
    "\n",
    "xs_t = np.array(xs_t)\n",
    "xs_t = np.transpose(xs_t, (0, 2, 3, 1))\n",
    "\n",
    "ys_e = np.array(ys_e)\n",
    "ys_t = np.array(ys_t)\n",
    "\n",
    "xs_e.shape, xs_t.shape, ys_e.shape,ys_t.shape"
   ]
  },
  {
   "cell_type": "code",
   "execution_count": 7,
   "id": "ea98e7ca",
   "metadata": {},
   "outputs": [
    {
     "name": "stderr",
     "output_type": "stream",
     "text": [
      "2023-05-03 14:25:31.225220: I tensorflow/compiler/xla/stream_executor/cuda/cuda_gpu_executor.cc:996] successful NUMA node read from SysFS had negative value (-1), but there must be at least one NUMA node, so returning NUMA node zero. See more at https://github.com/torvalds/linux/blob/v6.0/Documentation/ABI/testing/sysfs-bus-pci#L344-L355\n",
      "2023-05-03 14:25:31.225356: I tensorflow/compiler/xla/stream_executor/cuda/cuda_gpu_executor.cc:996] successful NUMA node read from SysFS had negative value (-1), but there must be at least one NUMA node, so returning NUMA node zero. See more at https://github.com/torvalds/linux/blob/v6.0/Documentation/ABI/testing/sysfs-bus-pci#L344-L355\n",
      "2023-05-03 14:25:31.225425: I tensorflow/compiler/xla/stream_executor/cuda/cuda_gpu_executor.cc:996] successful NUMA node read from SysFS had negative value (-1), but there must be at least one NUMA node, so returning NUMA node zero. See more at https://github.com/torvalds/linux/blob/v6.0/Documentation/ABI/testing/sysfs-bus-pci#L344-L355\n",
      "2023-05-03 14:25:31.528051: I tensorflow/compiler/xla/stream_executor/cuda/cuda_gpu_executor.cc:996] successful NUMA node read from SysFS had negative value (-1), but there must be at least one NUMA node, so returning NUMA node zero. See more at https://github.com/torvalds/linux/blob/v6.0/Documentation/ABI/testing/sysfs-bus-pci#L344-L355\n",
      "2023-05-03 14:25:31.528129: I tensorflow/compiler/xla/stream_executor/cuda/cuda_gpu_executor.cc:996] successful NUMA node read from SysFS had negative value (-1), but there must be at least one NUMA node, so returning NUMA node zero. See more at https://github.com/torvalds/linux/blob/v6.0/Documentation/ABI/testing/sysfs-bus-pci#L344-L355\n",
      "2023-05-03 14:25:31.528172: I tensorflow/compiler/xla/stream_executor/cuda/cuda_gpu_executor.cc:996] successful NUMA node read from SysFS had negative value (-1), but there must be at least one NUMA node, so returning NUMA node zero. See more at https://github.com/torvalds/linux/blob/v6.0/Documentation/ABI/testing/sysfs-bus-pci#L344-L355\n",
      "2023-05-03 14:25:31.528213: I tensorflow/core/common_runtime/gpu/gpu_device.cc:1635] Created device /job:localhost/replica:0/task:0/device:GPU:0 with 22002 MB memory:  -> device: 0, name: NVIDIA RTX A5000, pci bus id: 0000:01:00.0, compute capability: 8.6\n"
     ]
    }
   ],
   "source": [
    "\n",
    "# Step 2: Define the CNN model architecture\n",
    "model = Sequential([\n",
    "    Conv2D(32, (3, 3), activation='relu', input_shape=(400, 200, 4)),\n",
    "    MaxPooling2D((2, 2)),\n",
    "    Conv2D(64, (3, 3), activation='relu'),\n",
    "    MaxPooling2D((2, 2)),\n",
    "    Conv2D(128, (3, 3), activation='relu'),\n",
    "    MaxPooling2D((2, 2)),\n",
    "    Flatten(),\n",
    "    Dense(64, activation='relu'),\n",
    "    Dense(32, activation='relu'),\n",
    "    Dense(1)\n",
    "])\n",
    "\n",
    "# Step 3: Compile the model\n",
    "model.compile(optimizer=Adam(learning_rate=0.0005), loss='mse', metrics=['mae'])\n",
    "\n"
   ]
  },
  {
   "cell_type": "code",
   "execution_count": 9,
   "id": "15a374d2",
   "metadata": {
    "scrolled": true
   },
   "outputs": [
    {
     "data": {
      "text/plain": [
       "((2812, 400, 200, 4), (2812,), (1206, 400, 200, 4))"
      ]
     },
     "execution_count": 9,
     "metadata": {},
     "output_type": "execute_result"
    }
   ],
   "source": [
    "# Split the data into training and testing sets\n",
    "X_train, X_test, y_train, y_test = train_test_split(xs_e, ys_e, test_size=0.3, random_state=34)\n",
    "X_train.shape, y_train.shape, X_test.shape"
   ]
  },
  {
   "cell_type": "code",
   "execution_count": 21,
   "id": "25b0469d",
   "metadata": {
    "scrolled": false
   },
   "outputs": [
    {
     "name": "stdout",
     "output_type": "stream",
     "text": [
      "Epoch 1/150\n",
      "59/59 [==============================] - 3s 43ms/step - loss: 0.3561 - mae: 0.4480 - val_loss: 4.1454 - val_mae: 1.4990\n",
      "Epoch 2/150\n",
      "59/59 [==============================] - 2s 36ms/step - loss: 0.3795 - mae: 0.4515 - val_loss: 4.5426 - val_mae: 1.5651\n",
      "Epoch 3/150\n",
      "59/59 [==============================] - 2s 37ms/step - loss: 0.3435 - mae: 0.4314 - val_loss: 4.3010 - val_mae: 1.5063\n",
      "Epoch 4/150\n",
      "59/59 [==============================] - 2s 36ms/step - loss: 0.2805 - mae: 0.3941 - val_loss: 4.3065 - val_mae: 1.5158\n",
      "Epoch 5/150\n",
      "59/59 [==============================] - 2s 36ms/step - loss: 0.4233 - mae: 0.4855 - val_loss: 4.3857 - val_mae: 1.5384\n",
      "Epoch 6/150\n",
      "59/59 [==============================] - 2s 36ms/step - loss: 0.3361 - mae: 0.4315 - val_loss: 4.2200 - val_mae: 1.5059\n",
      "Epoch 7/150\n",
      "59/59 [==============================] - 2s 36ms/step - loss: 0.3972 - mae: 0.4684 - val_loss: 4.5088 - val_mae: 1.5832\n",
      "Epoch 8/150\n",
      "59/59 [==============================] - 2s 36ms/step - loss: 0.7040 - mae: 0.6339 - val_loss: 4.3289 - val_mae: 1.5331\n",
      "Epoch 9/150\n",
      "59/59 [==============================] - 2s 36ms/step - loss: 0.4637 - mae: 0.5004 - val_loss: 4.6202 - val_mae: 1.5736\n",
      "Epoch 10/150\n",
      "59/59 [==============================] - 2s 36ms/step - loss: 0.8102 - mae: 0.6958 - val_loss: 4.2234 - val_mae: 1.4932\n",
      "Epoch 11/150\n",
      "59/59 [==============================] - 2s 37ms/step - loss: 0.5542 - mae: 0.5642 - val_loss: 4.2399 - val_mae: 1.5147\n",
      "Epoch 12/150\n",
      "59/59 [==============================] - 2s 37ms/step - loss: 0.4610 - mae: 0.5036 - val_loss: 4.4914 - val_mae: 1.5439\n",
      "Epoch 13/150\n",
      "59/59 [==============================] - 2s 36ms/step - loss: 0.4682 - mae: 0.5061 - val_loss: 4.3761 - val_mae: 1.5515\n",
      "Epoch 14/150\n",
      "59/59 [==============================] - 2s 36ms/step - loss: 0.4915 - mae: 0.5287 - val_loss: 4.1204 - val_mae: 1.4842\n",
      "Epoch 15/150\n",
      "59/59 [==============================] - 2s 36ms/step - loss: 0.2819 - mae: 0.3928 - val_loss: 4.1613 - val_mae: 1.4944\n",
      "Epoch 16/150\n",
      "59/59 [==============================] - 2s 36ms/step - loss: 0.1941 - mae: 0.3293 - val_loss: 4.1369 - val_mae: 1.4916\n",
      "Epoch 17/150\n",
      "59/59 [==============================] - 2s 37ms/step - loss: 0.1956 - mae: 0.3374 - val_loss: 4.2246 - val_mae: 1.4988\n",
      "Epoch 18/150\n",
      "59/59 [==============================] - 2s 36ms/step - loss: 0.1458 - mae: 0.2883 - val_loss: 4.1631 - val_mae: 1.4851\n",
      "Epoch 19/150\n",
      "59/59 [==============================] - 2s 36ms/step - loss: 0.1706 - mae: 0.3100 - val_loss: 3.9851 - val_mae: 1.4637\n",
      "Epoch 20/150\n",
      "59/59 [==============================] - 2s 36ms/step - loss: 0.1984 - mae: 0.3350 - val_loss: 4.0987 - val_mae: 1.4686\n",
      "Epoch 21/150\n",
      "59/59 [==============================] - 2s 36ms/step - loss: 0.1809 - mae: 0.3196 - val_loss: 4.4741 - val_mae: 1.5503\n",
      "Epoch 22/150\n",
      "59/59 [==============================] - 2s 37ms/step - loss: 0.1595 - mae: 0.2936 - val_loss: 4.1718 - val_mae: 1.4880\n",
      "Epoch 23/150\n",
      "59/59 [==============================] - 2s 36ms/step - loss: 0.2969 - mae: 0.4081 - val_loss: 4.2387 - val_mae: 1.5119\n",
      "Epoch 24/150\n",
      "59/59 [==============================] - 2s 36ms/step - loss: 0.3582 - mae: 0.4544 - val_loss: 4.2871 - val_mae: 1.5233\n",
      "Epoch 25/150\n",
      "59/59 [==============================] - 2s 36ms/step - loss: 0.2658 - mae: 0.3791 - val_loss: 4.2683 - val_mae: 1.5116\n",
      "Epoch 26/150\n",
      "59/59 [==============================] - 2s 36ms/step - loss: 0.5229 - mae: 0.5393 - val_loss: 4.5334 - val_mae: 1.5900\n",
      "Epoch 27/150\n",
      "59/59 [==============================] - 2s 37ms/step - loss: 0.5819 - mae: 0.5626 - val_loss: 4.3489 - val_mae: 1.5310\n",
      "Epoch 28/150\n",
      "59/59 [==============================] - 2s 37ms/step - loss: 0.5592 - mae: 0.5545 - val_loss: 4.4968 - val_mae: 1.5608\n",
      "Epoch 29/150\n",
      "59/59 [==============================] - 2s 36ms/step - loss: 0.4216 - mae: 0.4746 - val_loss: 4.0972 - val_mae: 1.4913\n",
      "Epoch 30/150\n",
      "59/59 [==============================] - 2s 37ms/step - loss: 0.3839 - mae: 0.4598 - val_loss: 4.0570 - val_mae: 1.4778\n",
      "Epoch 31/150\n",
      "59/59 [==============================] - 2s 37ms/step - loss: 0.2850 - mae: 0.3899 - val_loss: 4.3381 - val_mae: 1.5278\n",
      "Epoch 32/150\n",
      "59/59 [==============================] - 2s 36ms/step - loss: 0.4934 - mae: 0.5154 - val_loss: 4.1178 - val_mae: 1.4819\n",
      "Epoch 33/150\n",
      "59/59 [==============================] - 2s 37ms/step - loss: 0.5636 - mae: 0.5577 - val_loss: 4.1393 - val_mae: 1.4942\n",
      "Epoch 34/150\n",
      "59/59 [==============================] - 2s 37ms/step - loss: 0.3987 - mae: 0.4615 - val_loss: 4.2783 - val_mae: 1.5039\n",
      "Epoch 35/150\n",
      "59/59 [==============================] - 2s 37ms/step - loss: 0.3219 - mae: 0.4284 - val_loss: 4.1753 - val_mae: 1.4863\n",
      "Epoch 36/150\n",
      "59/59 [==============================] - 2s 37ms/step - loss: 0.3142 - mae: 0.4254 - val_loss: 4.3480 - val_mae: 1.5137\n",
      "Epoch 37/150\n",
      "59/59 [==============================] - 2s 36ms/step - loss: 0.1974 - mae: 0.3288 - val_loss: 4.0179 - val_mae: 1.4707\n",
      "Epoch 38/150\n",
      "59/59 [==============================] - 2s 37ms/step - loss: 0.1675 - mae: 0.3065 - val_loss: 4.0223 - val_mae: 1.4489\n",
      "Epoch 39/150\n",
      "59/59 [==============================] - 2s 37ms/step - loss: 0.1533 - mae: 0.2904 - val_loss: 4.0562 - val_mae: 1.4696\n",
      "Epoch 40/150\n",
      "59/59 [==============================] - 2s 37ms/step - loss: 0.1161 - mae: 0.2523 - val_loss: 4.2642 - val_mae: 1.5141\n",
      "Epoch 41/150\n",
      "59/59 [==============================] - 2s 37ms/step - loss: 0.1927 - mae: 0.3410 - val_loss: 4.1107 - val_mae: 1.4731\n",
      "Epoch 42/150\n",
      "59/59 [==============================] - 2s 37ms/step - loss: 0.1926 - mae: 0.3289 - val_loss: 4.1197 - val_mae: 1.4846\n",
      "Epoch 43/150\n",
      "59/59 [==============================] - 2s 38ms/step - loss: 0.1595 - mae: 0.3002 - val_loss: 4.0221 - val_mae: 1.4568\n",
      "Epoch 44/150\n",
      "59/59 [==============================] - 2s 37ms/step - loss: 0.1512 - mae: 0.2923 - val_loss: 3.9792 - val_mae: 1.4694\n",
      "Epoch 45/150\n",
      "59/59 [==============================] - 2s 37ms/step - loss: 0.1302 - mae: 0.2709 - val_loss: 3.9972 - val_mae: 1.4546\n",
      "Epoch 46/150\n",
      "59/59 [==============================] - 2s 37ms/step - loss: 0.1401 - mae: 0.2805 - val_loss: 3.9923 - val_mae: 1.4651\n",
      "Epoch 47/150\n",
      "59/59 [==============================] - 2s 37ms/step - loss: 0.2464 - mae: 0.3683 - val_loss: 4.1111 - val_mae: 1.4767\n",
      "Epoch 48/150\n",
      "59/59 [==============================] - 2s 37ms/step - loss: 0.2974 - mae: 0.4129 - val_loss: 3.9733 - val_mae: 1.4438\n",
      "Epoch 49/150\n",
      "59/59 [==============================] - 2s 36ms/step - loss: 0.2218 - mae: 0.3486 - val_loss: 4.1751 - val_mae: 1.4838\n",
      "Epoch 50/150\n",
      "59/59 [==============================] - 2s 37ms/step - loss: 0.2605 - mae: 0.3736 - val_loss: 4.2614 - val_mae: 1.5079\n",
      "Epoch 51/150\n",
      "59/59 [==============================] - 2s 37ms/step - loss: 0.3489 - mae: 0.4408 - val_loss: 4.2525 - val_mae: 1.4981\n",
      "Epoch 52/150\n",
      "59/59 [==============================] - 2s 38ms/step - loss: 0.6484 - mae: 0.6160 - val_loss: 3.9622 - val_mae: 1.4648\n",
      "Epoch 53/150\n",
      "59/59 [==============================] - 2s 37ms/step - loss: 0.9397 - mae: 0.7297 - val_loss: 4.1540 - val_mae: 1.5132\n",
      "Epoch 54/150\n",
      "59/59 [==============================] - 2s 37ms/step - loss: 0.4533 - mae: 0.5045 - val_loss: 4.2200 - val_mae: 1.5018\n",
      "Epoch 55/150\n",
      "59/59 [==============================] - 2s 37ms/step - loss: 0.3098 - mae: 0.4205 - val_loss: 4.0420 - val_mae: 1.4763\n",
      "Epoch 56/150\n",
      "59/59 [==============================] - 2s 38ms/step - loss: 0.4198 - mae: 0.4877 - val_loss: 4.7367 - val_mae: 1.6149\n",
      "Epoch 57/150\n",
      "59/59 [==============================] - 2s 37ms/step - loss: 0.4172 - mae: 0.4808 - val_loss: 4.6098 - val_mae: 1.5890\n",
      "Epoch 58/150\n",
      "59/59 [==============================] - 2s 37ms/step - loss: 0.5215 - mae: 0.5479 - val_loss: 3.8796 - val_mae: 1.4577\n",
      "Epoch 59/150\n",
      "59/59 [==============================] - 2s 37ms/step - loss: 0.2566 - mae: 0.3777 - val_loss: 3.8056 - val_mae: 1.4202\n",
      "Epoch 60/150\n",
      "59/59 [==============================] - 2s 37ms/step - loss: 0.2165 - mae: 0.3528 - val_loss: 3.8140 - val_mae: 1.4281\n",
      "Epoch 61/150\n",
      "59/59 [==============================] - 2s 37ms/step - loss: 0.1592 - mae: 0.2976 - val_loss: 3.8561 - val_mae: 1.4324\n",
      "Epoch 62/150\n",
      "59/59 [==============================] - 2s 37ms/step - loss: 0.1245 - mae: 0.2672 - val_loss: 3.7920 - val_mae: 1.4221\n",
      "Epoch 63/150\n",
      "59/59 [==============================] - 2s 37ms/step - loss: 0.1022 - mae: 0.2439 - val_loss: 3.7862 - val_mae: 1.4229\n",
      "Epoch 64/150\n",
      "59/59 [==============================] - 2s 37ms/step - loss: 0.0867 - mae: 0.2194 - val_loss: 3.7546 - val_mae: 1.4164\n",
      "Epoch 65/150\n",
      "59/59 [==============================] - 2s 37ms/step - loss: 0.0881 - mae: 0.2185 - val_loss: 3.8533 - val_mae: 1.4328\n",
      "Epoch 66/150\n",
      "59/59 [==============================] - 2s 37ms/step - loss: 0.1040 - mae: 0.2436 - val_loss: 3.9659 - val_mae: 1.4621\n",
      "Epoch 67/150\n",
      "59/59 [==============================] - 2s 37ms/step - loss: 0.1354 - mae: 0.2791 - val_loss: 4.0806 - val_mae: 1.4689\n",
      "Epoch 68/150\n",
      "59/59 [==============================] - 2s 37ms/step - loss: 0.2667 - mae: 0.3947 - val_loss: 3.9896 - val_mae: 1.4498\n",
      "Epoch 69/150\n",
      "59/59 [==============================] - 2s 37ms/step - loss: 0.2670 - mae: 0.3890 - val_loss: 3.9068 - val_mae: 1.4475\n",
      "Epoch 70/150\n",
      "59/59 [==============================] - 2s 37ms/step - loss: 0.3601 - mae: 0.4519 - val_loss: 3.8867 - val_mae: 1.4380\n",
      "Epoch 71/150\n",
      "59/59 [==============================] - 2s 38ms/step - loss: 0.2659 - mae: 0.3737 - val_loss: 3.8778 - val_mae: 1.4503\n",
      "Epoch 72/150\n",
      "59/59 [==============================] - 2s 37ms/step - loss: 0.3828 - mae: 0.4695 - val_loss: 3.9152 - val_mae: 1.4414\n",
      "Epoch 73/150\n",
      "59/59 [==============================] - 2s 38ms/step - loss: 0.3038 - mae: 0.4069 - val_loss: 3.9593 - val_mae: 1.4590\n",
      "Epoch 74/150\n",
      "59/59 [==============================] - 2s 37ms/step - loss: 0.3051 - mae: 0.4063 - val_loss: 3.9035 - val_mae: 1.4428\n",
      "Epoch 75/150\n",
      "59/59 [==============================] - 2s 37ms/step - loss: 0.3634 - mae: 0.4495 - val_loss: 3.9261 - val_mae: 1.4454\n",
      "Epoch 76/150\n",
      "59/59 [==============================] - 2s 37ms/step - loss: 0.2642 - mae: 0.3788 - val_loss: 3.8284 - val_mae: 1.4393\n",
      "Epoch 77/150\n",
      "59/59 [==============================] - 2s 37ms/step - loss: 0.3087 - mae: 0.4159 - val_loss: 4.0218 - val_mae: 1.4839\n",
      "Epoch 78/150\n",
      "59/59 [==============================] - 2s 37ms/step - loss: 0.3040 - mae: 0.4135 - val_loss: 3.8790 - val_mae: 1.4327\n",
      "Epoch 79/150\n",
      "59/59 [==============================] - 2s 38ms/step - loss: 0.2886 - mae: 0.4024 - val_loss: 3.9064 - val_mae: 1.4419\n",
      "Epoch 80/150\n",
      "59/59 [==============================] - 2s 37ms/step - loss: 0.2346 - mae: 0.3623 - val_loss: 3.9050 - val_mae: 1.4190\n",
      "Epoch 81/150\n",
      "59/59 [==============================] - 2s 38ms/step - loss: 0.2482 - mae: 0.3771 - val_loss: 4.1870 - val_mae: 1.5188\n",
      "Epoch 82/150\n",
      "59/59 [==============================] - 2s 37ms/step - loss: 0.2595 - mae: 0.3903 - val_loss: 3.8457 - val_mae: 1.4414\n",
      "Epoch 83/150\n",
      "59/59 [==============================] - 2s 37ms/step - loss: 0.2898 - mae: 0.4137 - val_loss: 3.9756 - val_mae: 1.4727\n",
      "Epoch 84/150\n",
      "59/59 [==============================] - 2s 37ms/step - loss: 0.3253 - mae: 0.4357 - val_loss: 3.8235 - val_mae: 1.4248\n",
      "Epoch 85/150\n",
      "59/59 [==============================] - 2s 37ms/step - loss: 0.3019 - mae: 0.4151 - val_loss: 4.3267 - val_mae: 1.5352\n",
      "Epoch 86/150\n",
      "59/59 [==============================] - 2s 37ms/step - loss: 0.3403 - mae: 0.4347 - val_loss: 3.9537 - val_mae: 1.4928\n",
      "Epoch 87/150\n",
      "59/59 [==============================] - 2s 37ms/step - loss: 0.6459 - mae: 0.5933 - val_loss: 6.7095 - val_mae: 2.0723\n",
      "Epoch 88/150\n",
      "59/59 [==============================] - 2s 37ms/step - loss: 2.4026 - mae: 1.2077 - val_loss: 6.3929 - val_mae: 1.8774\n",
      "Epoch 89/150\n",
      "59/59 [==============================] - 2s 37ms/step - loss: 1.6522 - mae: 0.9699 - val_loss: 3.9915 - val_mae: 1.5064\n",
      "Epoch 90/150\n",
      "59/59 [==============================] - 2s 37ms/step - loss: 1.2152 - mae: 0.8352 - val_loss: 3.7349 - val_mae: 1.4332\n",
      "Epoch 91/150\n",
      "59/59 [==============================] - 2s 37ms/step - loss: 0.3863 - mae: 0.4691 - val_loss: 3.6639 - val_mae: 1.3973\n",
      "Epoch 92/150\n",
      "59/59 [==============================] - 2s 37ms/step - loss: 0.2107 - mae: 0.3508 - val_loss: 3.4900 - val_mae: 1.3553\n",
      "Epoch 93/150\n",
      "59/59 [==============================] - 2s 36ms/step - loss: 0.1570 - mae: 0.2992 - val_loss: 3.7132 - val_mae: 1.4078\n",
      "Epoch 94/150\n",
      "59/59 [==============================] - 2s 37ms/step - loss: 0.1111 - mae: 0.2549 - val_loss: 3.5909 - val_mae: 1.3841\n",
      "Epoch 95/150\n",
      "59/59 [==============================] - 2s 38ms/step - loss: 0.0725 - mae: 0.2045 - val_loss: 3.5194 - val_mae: 1.3605\n",
      "Epoch 96/150\n",
      "59/59 [==============================] - 2s 37ms/step - loss: 0.0584 - mae: 0.1829 - val_loss: 3.5272 - val_mae: 1.3706\n",
      "Epoch 97/150\n",
      "59/59 [==============================] - 2s 36ms/step - loss: 0.0741 - mae: 0.1950 - val_loss: 3.5382 - val_mae: 1.3758\n",
      "Epoch 98/150\n",
      "59/59 [==============================] - 2s 37ms/step - loss: 0.0567 - mae: 0.1741 - val_loss: 3.4481 - val_mae: 1.3488\n",
      "Epoch 99/150\n",
      "59/59 [==============================] - 2s 38ms/step - loss: 0.0358 - mae: 0.1417 - val_loss: 3.4884 - val_mae: 1.3623\n",
      "Epoch 100/150\n",
      "59/59 [==============================] - 2s 37ms/step - loss: 0.0251 - mae: 0.1182 - val_loss: 3.5353 - val_mae: 1.3602\n",
      "Epoch 101/150\n",
      "59/59 [==============================] - 2s 38ms/step - loss: 0.0236 - mae: 0.1149 - val_loss: 3.5289 - val_mae: 1.3687\n",
      "Epoch 102/150\n",
      "59/59 [==============================] - 2s 37ms/step - loss: 0.0162 - mae: 0.0953 - val_loss: 3.4803 - val_mae: 1.3529\n",
      "Epoch 103/150\n",
      "59/59 [==============================] - 2s 37ms/step - loss: 0.0197 - mae: 0.1045 - val_loss: 3.4916 - val_mae: 1.3588\n",
      "Epoch 104/150\n",
      "59/59 [==============================] - 2s 37ms/step - loss: 0.0234 - mae: 0.1144 - val_loss: 3.5310 - val_mae: 1.3647\n",
      "Epoch 105/150\n",
      "59/59 [==============================] - 2s 38ms/step - loss: 0.0252 - mae: 0.1181 - val_loss: 3.4819 - val_mae: 1.3558\n",
      "Epoch 106/150\n",
      "59/59 [==============================] - 2s 37ms/step - loss: 0.0361 - mae: 0.1406 - val_loss: 3.4909 - val_mae: 1.3511\n",
      "Epoch 107/150\n",
      "59/59 [==============================] - 2s 38ms/step - loss: 0.0495 - mae: 0.1678 - val_loss: 3.6176 - val_mae: 1.3786\n",
      "Epoch 108/150\n",
      "59/59 [==============================] - 2s 37ms/step - loss: 0.0676 - mae: 0.1965 - val_loss: 3.4672 - val_mae: 1.3533\n",
      "Epoch 109/150\n",
      "59/59 [==============================] - 2s 37ms/step - loss: 0.0715 - mae: 0.1997 - val_loss: 3.6270 - val_mae: 1.3878\n",
      "Epoch 110/150\n",
      "59/59 [==============================] - 2s 37ms/step - loss: 0.1014 - mae: 0.2411 - val_loss: 3.6620 - val_mae: 1.3911\n",
      "Epoch 111/150\n",
      "59/59 [==============================] - 2s 37ms/step - loss: 0.1084 - mae: 0.2504 - val_loss: 3.7155 - val_mae: 1.4143\n",
      "Epoch 112/150\n",
      "59/59 [==============================] - 2s 37ms/step - loss: 0.3435 - mae: 0.4455 - val_loss: 3.9013 - val_mae: 1.4390\n",
      "Epoch 113/150\n",
      "59/59 [==============================] - 2s 37ms/step - loss: 0.4799 - mae: 0.5325 - val_loss: 3.8304 - val_mae: 1.4337\n",
      "Epoch 114/150\n",
      "59/59 [==============================] - 2s 36ms/step - loss: 0.7603 - mae: 0.6568 - val_loss: 3.6688 - val_mae: 1.3961\n",
      "Epoch 115/150\n",
      "59/59 [==============================] - 2s 37ms/step - loss: 0.7044 - mae: 0.6337 - val_loss: 3.6900 - val_mae: 1.3878\n",
      "Epoch 116/150\n",
      "59/59 [==============================] - 2s 37ms/step - loss: 0.4368 - mae: 0.4915 - val_loss: 4.4005 - val_mae: 1.5806\n",
      "Epoch 117/150\n",
      "59/59 [==============================] - 2s 37ms/step - loss: 0.7247 - mae: 0.6633 - val_loss: 3.6946 - val_mae: 1.3826\n",
      "Epoch 118/150\n",
      "59/59 [==============================] - 2s 37ms/step - loss: 0.5550 - mae: 0.5567 - val_loss: 4.0343 - val_mae: 1.4823\n",
      "Epoch 119/150\n",
      "59/59 [==============================] - 2s 38ms/step - loss: 0.2998 - mae: 0.4091 - val_loss: 3.6773 - val_mae: 1.3990\n",
      "Epoch 120/150\n",
      "59/59 [==============================] - 2s 36ms/step - loss: 0.1570 - mae: 0.2941 - val_loss: 3.5110 - val_mae: 1.3632\n",
      "Epoch 121/150\n",
      "59/59 [==============================] - 2s 37ms/step - loss: 0.1027 - mae: 0.2427 - val_loss: 3.5243 - val_mae: 1.3640\n",
      "Epoch 122/150\n",
      "59/59 [==============================] - 2s 37ms/step - loss: 0.0853 - mae: 0.2229 - val_loss: 3.6782 - val_mae: 1.4072\n",
      "Epoch 123/150\n",
      "59/59 [==============================] - 2s 36ms/step - loss: 0.0865 - mae: 0.2200 - val_loss: 3.4964 - val_mae: 1.3592\n",
      "Epoch 124/150\n",
      "59/59 [==============================] - 2s 37ms/step - loss: 0.0700 - mae: 0.2001 - val_loss: 3.5159 - val_mae: 1.3546\n",
      "Epoch 125/150\n",
      "59/59 [==============================] - 2s 38ms/step - loss: 0.0594 - mae: 0.1801 - val_loss: 3.5494 - val_mae: 1.3732\n",
      "Epoch 126/150\n",
      "59/59 [==============================] - 2s 37ms/step - loss: 0.0541 - mae: 0.1740 - val_loss: 3.5709 - val_mae: 1.3671\n",
      "Epoch 127/150\n",
      "59/59 [==============================] - 2s 37ms/step - loss: 0.0794 - mae: 0.2123 - val_loss: 3.4608 - val_mae: 1.3505\n",
      "Epoch 128/150\n",
      "59/59 [==============================] - 2s 37ms/step - loss: 0.0518 - mae: 0.1657 - val_loss: 3.5318 - val_mae: 1.3674\n",
      "Epoch 129/150\n",
      "59/59 [==============================] - 2s 37ms/step - loss: 0.0827 - mae: 0.2129 - val_loss: 3.6152 - val_mae: 1.3895\n",
      "Epoch 130/150\n",
      "59/59 [==============================] - 2s 38ms/step - loss: 0.1193 - mae: 0.2477 - val_loss: 3.6884 - val_mae: 1.4049\n",
      "Epoch 131/150\n",
      "59/59 [==============================] - 2s 36ms/step - loss: 0.3297 - mae: 0.4254 - val_loss: 4.1303 - val_mae: 1.5328\n",
      "Epoch 132/150\n",
      "59/59 [==============================] - 2s 38ms/step - loss: 0.5841 - mae: 0.5813 - val_loss: 3.9675 - val_mae: 1.4387\n",
      "Epoch 133/150\n",
      "59/59 [==============================] - 2s 37ms/step - loss: 0.4173 - mae: 0.4813 - val_loss: 3.6495 - val_mae: 1.3915\n",
      "Epoch 134/150\n",
      "59/59 [==============================] - 2s 37ms/step - loss: 0.3276 - mae: 0.4282 - val_loss: 3.5792 - val_mae: 1.3690\n",
      "Epoch 135/150\n",
      "59/59 [==============================] - 2s 37ms/step - loss: 0.3111 - mae: 0.4311 - val_loss: 3.6576 - val_mae: 1.3975\n",
      "Epoch 136/150\n",
      "59/59 [==============================] - 2s 36ms/step - loss: 0.3540 - mae: 0.4522 - val_loss: 3.6865 - val_mae: 1.3871\n",
      "Epoch 137/150\n",
      "59/59 [==============================] - 2s 37ms/step - loss: 0.1978 - mae: 0.3368 - val_loss: 3.3788 - val_mae: 1.3467\n",
      "Epoch 138/150\n",
      "59/59 [==============================] - 2s 37ms/step - loss: 0.1547 - mae: 0.2994 - val_loss: 3.4434 - val_mae: 1.3480\n",
      "Epoch 139/150\n",
      "59/59 [==============================] - 2s 37ms/step - loss: 0.1072 - mae: 0.2459 - val_loss: 3.4235 - val_mae: 1.3344\n",
      "Epoch 140/150\n",
      "59/59 [==============================] - 2s 37ms/step - loss: 0.1045 - mae: 0.2404 - val_loss: 3.6148 - val_mae: 1.3843\n",
      "Epoch 141/150\n",
      "59/59 [==============================] - 2s 37ms/step - loss: 0.1269 - mae: 0.2669 - val_loss: 3.4171 - val_mae: 1.3439\n",
      "Epoch 142/150\n",
      "59/59 [==============================] - 2s 37ms/step - loss: 0.0950 - mae: 0.2295 - val_loss: 3.4453 - val_mae: 1.3515\n",
      "Epoch 143/150\n",
      "59/59 [==============================] - 2s 37ms/step - loss: 0.1095 - mae: 0.2436 - val_loss: 3.4641 - val_mae: 1.3622\n",
      "Epoch 144/150\n",
      "59/59 [==============================] - 2s 37ms/step - loss: 0.1109 - mae: 0.2448 - val_loss: 3.4102 - val_mae: 1.3339\n",
      "Epoch 145/150\n",
      "59/59 [==============================] - 2s 37ms/step - loss: 0.1138 - mae: 0.2466 - val_loss: 3.3564 - val_mae: 1.3352\n",
      "Epoch 146/150\n",
      "59/59 [==============================] - 2s 37ms/step - loss: 0.0982 - mae: 0.2223 - val_loss: 3.4889 - val_mae: 1.3622\n",
      "Epoch 147/150\n",
      "59/59 [==============================] - 2s 37ms/step - loss: 0.1187 - mae: 0.2549 - val_loss: 3.3836 - val_mae: 1.3315\n",
      "Epoch 148/150\n",
      "59/59 [==============================] - 2s 37ms/step - loss: 0.0913 - mae: 0.2215 - val_loss: 3.4245 - val_mae: 1.3451\n",
      "Epoch 149/150\n",
      "59/59 [==============================] - 2s 37ms/step - loss: 0.1218 - mae: 0.2564 - val_loss: 3.5240 - val_mae: 1.3623\n",
      "Epoch 150/150\n",
      "59/59 [==============================] - 2s 37ms/step - loss: 0.1572 - mae: 0.3031 - val_loss: 3.5005 - val_mae: 1.3608\n"
     ]
    },
    {
     "data": {
      "text/plain": [
       "<keras.callbacks.History at 0x7fe51065a940>"
      ]
     },
     "execution_count": 21,
     "metadata": {},
     "output_type": "execute_result"
    }
   ],
   "source": [
    "# train the model\n",
    "model.fit(X_train, y_train, validation_data=(X_test, y_test), epochs=150, batch_size=48)\n"
   ]
  },
  {
   "cell_type": "code",
   "execution_count": 22,
   "id": "07302a0d",
   "metadata": {
    "scrolled": false
   },
   "outputs": [
    {
     "name": "stdout",
     "output_type": "stream",
     "text": [
      "38/38 [==============================] - 0s 8ms/step\n"
     ]
    }
   ],
   "source": [
    "# use the model to make predictions\n",
    "y_pred = model.predict(X_test)"
   ]
  },
  {
   "cell_type": "code",
   "execution_count": 23,
   "id": "f8fea6b7",
   "metadata": {},
   "outputs": [],
   "source": [
    "#model.save_weights('weights.dat')"
   ]
  },
  {
   "cell_type": "code",
   "execution_count": 24,
   "id": "e47dd54c",
   "metadata": {},
   "outputs": [
    {
     "name": "stdout",
     "output_type": "stream",
     "text": [
      "38/38 [==============================] - 0s 8ms/step - loss: 3.5005 - mae: 1.3608\n"
     ]
    }
   ],
   "source": [
    "loss = model.evaluate(X_test, y_test)"
   ]
  },
  {
   "cell_type": "code",
   "execution_count": 25,
   "id": "e5c586e7",
   "metadata": {},
   "outputs": [
    {
     "data": {
      "text/plain": [
       "(array([1.3607693], dtype=float32),\n",
       " array([9.908542], dtype=float32),\n",
       " array([0.00088453], dtype=float32))"
      ]
     },
     "execution_count": 25,
     "metadata": {},
     "output_type": "execute_result"
    }
   ],
   "source": [
    "l = []\n",
    "for i in range(len(y_test)):\n",
    "    l.append(abs(y_pred[i] - y_test[i]))\n",
    "sum(l)/len(l), max(l), min(l)"
   ]
  },
  {
   "cell_type": "code",
   "execution_count": 26,
   "id": "2ffd2d8b",
   "metadata": {},
   "outputs": [
    {
     "data": {
      "image/png": "[encoded data removed]",
      "text/plain": [
       "<Figure size 2000x1200 with 1 Axes>"
      ]
     },
     "metadata": {},
     "output_type": "display_data"
    }
   ],
   "source": [
    "import matplotlib.pyplot as plt\n",
    "plt.figure(figsize=(20,12))\n",
    "plt.scatter(y_test, y_pred)\n",
    "plt.xlabel(\"True Values\")\n",
    "plt.ylabel(\"Predictions\")\n",
    "\n",
    "plt.show()"
   ]
  },
  {
   "cell_type": "code",
   "execution_count": null,
   "id": "7d7474d1",
   "metadata": {},
   "outputs": [],
   "source": []
  },
  {
   "cell_type": "code",
   "execution_count": null,
   "id": "d79273e1",
   "metadata": {},
   "outputs": [],
   "source": []
  }
 ],
 "metadata": {
  "kernelspec": {
   "display_name": "Python 3 (ipykernel)",
   "language": "python",
   "name": "python3"
  },
  "language_info": {
   "codemirror_mode": {
    "name": "ipython",
    "version": 3
   },
   "file_extension": ".py",
   "mimetype": "text/x-python",
   "name": "python",
   "nbconvert_exporter": "python",
   "pygments_lexer": "ipython3",
   "version": "3.8.10"
  }
 },
 "nbformat": 4,
 "nbformat_minor": 5
}
